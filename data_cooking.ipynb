{
 "cells": [
  {
   "cell_type": "code",
   "execution_count": 1,
   "metadata": {
    "collapsed": true
   },
   "outputs": [],
   "source": [
    "import tensorflow as tf\n",
    "from skimage import io\n",
    "import skimage\n",
    "import cPickle as pickle\n",
    "import os\n",
    "import numpy as np\n",
    "from skimage.transform import rescale, resize, downscale_local_mean\n",
    "import matplotlib.pyplot as plt\n",
    "from os import listdir\n",
    "from os.path import isfile, join"
   ]
  },
  {
   "cell_type": "code",
   "execution_count": 9,
   "metadata": {
    "collapsed": true
   },
   "outputs": [],
   "source": [
    "# Create test dataset containing only cars\n",
    "img_width = 100\n",
    "img_height = 40\n",
    "standard = (img_height, img_width, 3)\n",
    "\n",
    "def load_raw_img(img_path):\n",
    "    img = io.imread(img_path, as_grey=True)\n",
    "    img = skimage.img_as_float(img)\n",
    "    img = resize(img, (img_height, img_width))\n",
    "    return img"
   ]
  },
  {
   "cell_type": "code",
   "execution_count": 15,
   "metadata": {},
   "outputs": [],
   "source": [
    "mypath = './CarDataset/TrainImages/'\n",
    "onlyfiles = [f for f in listdir(mypath) if isfile(join(mypath, f))]\n",
    "test_car_data = []\n",
    "test_car_labels = []\n",
    "count = 0\n",
    "for idx, file_name in enumerate(onlyfiles):\n",
    "    img = load_raw_img(join(mypath, file_name))\n",
    "    img = img.reshape((img_height, img_width, 1))\n",
    "    test_car_data.append(img)\n",
    "    if file_name[0] == 'p':\n",
    "        label = [0, 1]\n",
    "    else:\n",
    "        label = [1, 0]\n",
    "    test_car_labels.append(label)\n",
    "    \n",
    "test_car_data = np.array(test_car_data)\n",
    "test_car_labels = np.array(test_car_labels)\n",
    "test_car_dataset = (test_car_data, test_car_labels)\n"
   ]
  },
  {
   "cell_type": "code",
   "execution_count": 16,
   "metadata": {},
   "outputs": [
    {
     "name": "stdout",
     "output_type": "stream",
     "text": [
      "(1050, 40, 100, 1)\n",
      "(1050, 2)\n"
     ]
    }
   ],
   "source": [
    "pickle.dump(test_car_dataset, open('./CarDataset/original_dataset.pkl', 'wb'))\n",
    "print test_car_dataset[0].shape\n",
    "print test_car_dataset[1].shape"
   ]
  },
  {
   "cell_type": "code",
   "execution_count": 12,
   "metadata": {},
   "outputs": [
    {
     "ename": "IndexError",
     "evalue": "index 100 is out of bounds for axis 0 with size 0",
     "output_type": "error",
     "traceback": [
      "\u001b[0;31m---------------------------------------------------------------------------\u001b[0m",
      "\u001b[0;31mIndexError\u001b[0m                                Traceback (most recent call last)",
      "\u001b[0;32m<ipython-input-12-2120fef832ca>\u001b[0m in \u001b[0;36m<module>\u001b[0;34m()\u001b[0m\n\u001b[0;32m----> 1\u001b[0;31m \u001b[0mtest_car_labels\u001b[0m\u001b[0;34m[\u001b[0m\u001b[0;36m100\u001b[0m\u001b[0;34m]\u001b[0m\u001b[0;34m\u001b[0m\u001b[0m\n\u001b[0m",
      "\u001b[0;31mIndexError\u001b[0m: index 100 is out of bounds for axis 0 with size 0"
     ]
    }
   ],
   "source": [
    "test_car_labels[100]"
   ]
  },
  {
   "cell_type": "code",
   "execution_count": null,
   "metadata": {
    "collapsed": true
   },
   "outputs": [],
   "source": [
    "8*21*40"
   ]
  },
  {
   "cell_type": "code",
   "execution_count": null,
   "metadata": {
    "collapsed": true
   },
   "outputs": [],
   "source": []
  }
 ],
 "metadata": {
  "kernelspec": {
   "display_name": "Python 2",
   "language": "python",
   "name": "python2"
  },
  "language_info": {
   "codemirror_mode": {
    "name": "ipython",
    "version": 2
   },
   "file_extension": ".py",
   "mimetype": "text/x-python",
   "name": "python",
   "nbconvert_exporter": "python",
   "pygments_lexer": "ipython2",
   "version": "2.7.13"
  }
 },
 "nbformat": 4,
 "nbformat_minor": 2
}
