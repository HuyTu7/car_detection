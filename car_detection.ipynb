{
 "cells": [
  {
   "cell_type": "code",
   "execution_count": 4,
   "metadata": {},
   "outputs": [
    {
     "data": {
      "image/png": "[encoded data removed]",
      "text/plain": [
       "<matplotlib.figure.Figure at 0x7f76e33cf810>"
      ]
     },
     "metadata": {},
     "output_type": "display_data"
    }
   ],
   "source": [
    "# Plot ad hoc CIFAR10 instances\n",
    "from matplotlib import pyplot\n",
    "from scipy.misc import toimage\n",
    "import matplotlib.image as mpimg\n",
    "from car_model import Dataset, CarModel\n",
    "# Simple CNN model for DEMO\n",
    "import numpy\n",
    "from keras.utils import np_utils\n",
    "from keras.models import model_from_json\n",
    "from os import listdir\n",
    "from os.path import isfile, join\n",
    "from keras.preprocessing.image import img_to_array, load_img\n",
    "\n",
    "seed = 42\n",
    "numpy.random.seed(seed)\n",
    "\n",
    "img = mpimg.imread('./CarDataset/TrainImages/neg-0.pgm')\n",
    "pyplot.imshow(img, cmap='gray',vmin=0,vmax=255)\n",
    "pyplot.show()"
   ]
  },
  {
   "cell_type": "code",
   "execution_count": 2,
   "metadata": {},
   "outputs": [
    {
     "name": "stderr",
     "output_type": "stream",
     "text": [
      "2017-07-20 09:56:55,002 : INFO : shape of training data: (1049, 40, 100, 1)\n",
      "2017-07-20 09:56:55,003 : INFO : Load data Done!\n"
     ]
    },
    {
     "name": "stdout",
     "output_type": "stream",
     "text": [
      "<class 'pandas.core.frame.DataFrame'>\n",
      "RangeIndex: 1049 entries, 0 to 1048\n",
      "Data columns (total 3 columns):\n",
      "Unnamed: 0    1049 non-null int64\n",
      "files         1049 non-null object\n",
      "labels        1049 non-null int64\n",
      "dtypes: int64(2), object(1)\n",
      "memory usage: 24.7+ KB\n",
      "finished loading already dumped dataset\n",
      "<open file './models/car3.json', mode 'r' at 0x7f76e775aa50>\n",
      "./models/car3.h5\n",
      "_________________________________________________________________\n",
      "Layer (type)                 Output Shape              Param #   \n",
      "=================================================================\n",
      "conv2d_7 (Conv2D)            (None, 40, 100, 32)       320       \n",
      "_________________________________________________________________\n",
      "dropout_7 (Dropout)          (None, 40, 100, 32)       0         \n",
      "_________________________________________________________________\n",
      "conv2d_8 (Conv2D)            (None, 40, 100, 32)       9248      \n",
      "_________________________________________________________________\n",
      "max_pooling2d_4 (MaxPooling2 (None, 20, 50, 32)        0         \n",
      "_________________________________________________________________\n",
      "conv2d_9 (Conv2D)            (None, 20, 50, 64)        18496     \n",
      "_________________________________________________________________\n",
      "dropout_8 (Dropout)          (None, 20, 50, 64)        0         \n",
      "_________________________________________________________________\n",
      "conv2d_10 (Conv2D)           (None, 20, 50, 64)        36928     \n",
      "_________________________________________________________________\n",
      "max_pooling2d_5 (MaxPooling2 (None, 10, 25, 64)        0         \n",
      "_________________________________________________________________\n",
      "conv2d_11 (Conv2D)           (None, 10, 25, 128)       73856     \n",
      "_________________________________________________________________\n",
      "dropout_9 (Dropout)          (None, 10, 25, 128)       0         \n",
      "_________________________________________________________________\n",
      "conv2d_12 (Conv2D)           (None, 10, 25, 128)       147584    \n",
      "_________________________________________________________________\n",
      "max_pooling2d_6 (MaxPooling2 (None, 5, 12, 128)        0         \n",
      "_________________________________________________________________\n",
      "flatten_2 (Flatten)          (None, 7680)              0         \n",
      "_________________________________________________________________\n",
      "dropout_10 (Dropout)         (None, 7680)              0         \n",
      "_________________________________________________________________\n",
      "dense_4 (Dense)              (None, 1024)              7865344   \n",
      "_________________________________________________________________\n",
      "dropout_11 (Dropout)         (None, 1024)              0         \n",
      "_________________________________________________________________\n",
      "dense_5 (Dense)              (None, 512)               524800    \n",
      "_________________________________________________________________\n",
      "dropout_12 (Dropout)         (None, 512)               0         \n",
      "_________________________________________________________________\n",
      "dense_6 (Dense)              (None, 2)                 1026      \n",
      "=================================================================\n",
      "Total params: 8,677,602\n",
      "Trainable params: 8,677,602\n",
      "Non-trainable params: 0\n",
      "_________________________________________________________________\n",
      "None\n"
     ]
    }
   ],
   "source": [
    "# load data\n",
    "dataset = Dataset('./CarDataset', './CarDataset/car_labels_new.csv')\n",
    "model = CarModel('./models/car3.h5')"
   ]
  },
  {
   "cell_type": "code",
   "execution_count": null,
   "metadata": {
    "collapsed": true
   },
   "outputs": [],
   "source": [
    "X_train, y_train, picture, label = dataset.getTrainTest()\n",
    "# create a grid of 3x3 images\n",
    "for i in range(0, 9):\n",
    "    pyplot.subplot(330 + 1 + i)\n",
    "    pyplot.imshow(X_train[i].reshape(40, 100), cmap='gray',vmin=0,vmax=255)\n",
    "    \n",
    "# show the plot\n",
    "pyplot.show()"
   ]
  },
  {
   "cell_type": "code",
   "execution_count": null,
   "metadata": {
    "collapsed": true
   },
   "outputs": [],
   "source": [
    "print model.getEvaluate(picture, label)"
   ]
  },
  {
   "cell_type": "code",
   "execution_count": 18,
   "metadata": {},
   "outputs": [
    {
     "ename": "NameError",
     "evalue": "name 'picture' is not defined",
     "output_type": "error",
     "traceback": [
      "\u001b[0;31m---------------------------------------------------------------------------\u001b[0m",
      "\u001b[0;31mNameError\u001b[0m                                 Traceback (most recent call last)",
      "\u001b[0;32m<ipython-input-18-17166479c5ca>\u001b[0m in \u001b[0;36m<module>\u001b[0;34m()\u001b[0m\n\u001b[1;32m      8\u001b[0m \u001b[0;32mfor\u001b[0m \u001b[0mi\u001b[0m \u001b[0;32min\u001b[0m \u001b[0mrange\u001b[0m \u001b[0;34m(\u001b[0m\u001b[0;36m0\u001b[0m\u001b[0;34m,\u001b[0m \u001b[0mPREDICT_NUMBER\u001b[0m\u001b[0;34m)\u001b[0m\u001b[0;34m:\u001b[0m\u001b[0;34m\u001b[0m\u001b[0m\n\u001b[1;32m      9\u001b[0m     \u001b[0mpyplot\u001b[0m\u001b[0;34m.\u001b[0m\u001b[0msubplot\u001b[0m\u001b[0;34m(\u001b[0m\u001b[0;36m330\u001b[0m \u001b[0;34m+\u001b[0m \u001b[0;36m1\u001b[0m\u001b[0;34m)\u001b[0m\u001b[0;34m\u001b[0m\u001b[0m\n\u001b[0;32m---> 10\u001b[0;31m     \u001b[0mpyplot\u001b[0m\u001b[0;34m.\u001b[0m\u001b[0mimshow\u001b[0m\u001b[0;34m(\u001b[0m\u001b[0mpicture\u001b[0m\u001b[0;34m[\u001b[0m\u001b[0mi\u001b[0m\u001b[0;34m]\u001b[0m\u001b[0;34m.\u001b[0m\u001b[0mreshape\u001b[0m\u001b[0;34m(\u001b[0m\u001b[0;36m40\u001b[0m\u001b[0;34m,\u001b[0m \u001b[0;36m100\u001b[0m\u001b[0;34m)\u001b[0m\u001b[0;34m,\u001b[0m \u001b[0mcmap\u001b[0m\u001b[0;34m=\u001b[0m\u001b[0;34m'gray'\u001b[0m\u001b[0;34m,\u001b[0m\u001b[0mvmin\u001b[0m\u001b[0;34m=\u001b[0m\u001b[0;36m0\u001b[0m\u001b[0;34m,\u001b[0m\u001b[0mvmax\u001b[0m\u001b[0;34m=\u001b[0m\u001b[0;36m255\u001b[0m\u001b[0;34m)\u001b[0m\u001b[0;34m\u001b[0m\u001b[0m\n\u001b[0m\u001b[1;32m     11\u001b[0m     \u001b[0mpyplot\u001b[0m\u001b[0;34m.\u001b[0m\u001b[0mshow\u001b[0m\u001b[0;34m(\u001b[0m\u001b[0;34m)\u001b[0m\u001b[0;34m\u001b[0m\u001b[0m\n\u001b[1;32m     12\u001b[0m     \u001b[0;32mprint\u001b[0m \u001b[0;34m\"Label: \"\u001b[0m\u001b[0;34m,\u001b[0m \u001b[0mlabels\u001b[0m\u001b[0;34m[\u001b[0m\u001b[0mnp\u001b[0m\u001b[0;34m.\u001b[0m\u001b[0margmax\u001b[0m\u001b[0;34m(\u001b[0m\u001b[0mlabel\u001b[0m\u001b[0;34m[\u001b[0m\u001b[0mi\u001b[0m\u001b[0;34m]\u001b[0m\u001b[0;34m)\u001b[0m\u001b[0;34m]\u001b[0m\u001b[0;34m\u001b[0m\u001b[0m\n",
      "\u001b[0;31mNameError\u001b[0m: name 'picture' is not defined"
     ]
    }
   ],
   "source": [
    "\"\"\"\n",
    "PREDICT\n",
    "\"\"\"\n",
    "import numpy as np\n",
    "labels = ['no_car', 'car']\n",
    "PREDICT_NUMBER = 10\n",
    "\n",
    "for i in range (0, PREDICT_NUMBER):\n",
    "    pyplot.subplot(330 + 1)\n",
    "    pyplot.imshow(picture[i].reshape(40, 100), cmap='gray',vmin=0,vmax=255)\n",
    "    pyplot.show() \n",
    "    print \"Label: \", labels[np.argmax(label[i])]\n",
    "    predict = model.predict(picture[i])\n",
    "    print \"Predict: \", labels[np.argmax(predict[-1])]"
   ]
  },
  {
   "cell_type": "code",
   "execution_count": null,
   "metadata": {
    "collapsed": true
   },
   "outputs": [],
   "source": [
    "\n",
    "\n",
    "mypath = './CarDataset/cars_test/'\n",
    "onlyfiles = [ f for f in listdir(mypath) if isfile(join(mypath, f))]\n",
    "test_car_data = []\n",
    "test_car_labels = []\n",
    "count = 0\n",
    "for i in range (0, PREDICT_NUMBER):\n",
    "    img = load_img(join(mypath, onlyfiles[i]), grayscale=True)\n",
    "    pyplot.imshow(img, cmap='gray',vmin=0,vmax=255)\n",
    "    pyplot.show()\n",
    "    arr = img_to_array(img)\n",
    "    arr = np.reshape(arr, (1,)+arr.shape)\n",
    "    predict = model.predict(arr)\n",
    "    \n",
    "    print \"Predict: \", labels[np.argmax(predict[-1])]"
   ]
  },
  {
   "cell_type": "code",
   "execution_count": null,
   "metadata": {
    "collapsed": true
   },
   "outputs": [],
   "source": [
    "count = 0\n",
    "for imgfile in onlyfiles:\n",
    "    img = load_img(join(mypath, imgfile), grayscale=True)\n",
    "    arr = img_to_array(img)\n",
    "    arr = np.reshape(arr, (1,)+arr.shape)\n",
    "    predict = model.predict(arr)\n",
    "    if np.argmax(predict[-1]) == 1:\n",
    "        count += 1"
   ]
  },
  {
   "cell_type": "code",
   "execution_count": null,
   "metadata": {
    "collapsed": true
   },
   "outputs": [],
   "source": [
    "accuracy = float(count) / len(onlyfiles)\n",
    "print count \n",
    "print len(onlyfiles) \n",
    "print accuracy"
   ]
  },
  {
   "cell_type": "code",
   "execution_count": null,
   "metadata": {
    "collapsed": true
   },
   "outputs": [],
   "source": [
    "print count \n",
    "print len(onlyfiles) "
   ]
  },
  {
   "cell_type": "code",
   "execution_count": null,
   "metadata": {
    "collapsed": true
   },
   "outputs": [],
   "source": [
    "mypath = './CarDataset/TrainImages/'\n",
    "\n",
    "\n",
    "all_imgs = [ f for f in listdir(mypath) if isfile(join(mypath, f))]\n",
    "original_car_imgs = [] \n",
    "for f in all_imgs:\n",
    "    if f[:3] == 'pos':\n",
    "        original_car_imgs.append(f)\n",
    "        \n",
    "count = 0\n",
    "for imgfile in original_car_imgs:\n",
    "    img = load_img(join(mypath, imgfile), grayscale=True)\n",
    "    arr = img_to_array(img)\n",
    "    arr = np.reshape(arr, (1,)+arr.shape)\n",
    "    predict = model.predict(arr)\n",
    "    if np.argmax(predict[-1]) == 1:\n",
    "        count += 1\n",
    "\n",
    "accuracy = float(count) / len(original_car_imgs)\n",
    "print count\n",
    "print accuracy"
   ]
  },
  {
   "cell_type": "code",
   "execution_count": 21,
   "metadata": {},
   "outputs": [
    {
     "data": {
      "image/png": "[encoded data removed]",
      "text/plain": [
       "<matplotlib.figure.Figure at 0x7f76e3330e90>"
      ]
     },
     "metadata": {},
     "output_type": "display_data"
    },
    {
     "name": "stdout",
     "output_type": "stream",
     "text": [
      "Label: car\n",
      "Predict:  no_car\n"
     ]
    },
    {
     "data": {
      "image/png": "[encoded data removed]",
      "text/plain": [
       "<matplotlib.figure.Figure at 0x7f76e77b2c10>"
      ]
     },
     "metadata": {},
     "output_type": "display_data"
    },
    {
     "name": "stdout",
     "output_type": "stream",
     "text": [
      "Label: car\n",
      "Predict:  no_car\n"
     ]
    },
    {
     "data": {
      "image/png": "[encoded data removed]",
      "text/plain": [
       "<matplotlib.figure.Figure at 0x7f76e2f20810>"
      ]
     },
     "metadata": {},
     "output_type": "display_data"
    },
    {
     "name": "stdout",
     "output_type": "stream",
     "text": [
      "Label: car\n",
      "Predict:  car\n"
     ]
    }
   ],
   "source": [
    "mypath = './CarDataset/'\n",
    "count = 0\n",
    "all_imgs = [ f for f in listdir(mypath) if isfile(join(mypath, f))]\n",
    "for imgfile in all_imgs:\n",
    "    if imgfile[-3:] == 'jpg':\n",
    "        img = load_img(join(mypath, imgfile), grayscale=True)\n",
    "        arr = img_to_array(img)\n",
    "        arr = numpy.reshape(arr, (1,)+arr.shape)\n",
    "        predict = model.predict(arr)\n",
    "        pyplot.imshow(img, cmap='gray',vmin=0,vmax=255)\n",
    "        pyplot.show()\n",
    "        print \"Label: car\" \n",
    "        print \"Predict: \", labels[np.argmax(predict[-1])]"
   ]
  },
  {
   "cell_type": "code",
   "execution_count": null,
   "metadata": {
    "collapsed": true
   },
   "outputs": [],
   "source": []
  }
 ],
 "metadata": {
  "kernelspec": {
   "display_name": "Python 2",
   "language": "python",
   "name": "python2"
  },
  "language_info": {
   "codemirror_mode": {
    "name": "ipython",
    "version": 2
   },
   "file_extension": ".py",
   "mimetype": "text/x-python",
   "name": "python",
   "nbconvert_exporter": "python",
   "pygments_lexer": "ipython2",
   "version": "2.7.13"
  }
 },
 "nbformat": 4,
 "nbformat_minor": 2
}
