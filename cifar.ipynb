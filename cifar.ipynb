{
 "cells": [
  {
   "cell_type": "code",
   "execution_count": 3,
   "metadata": {
    "collapsed": false
   },
   "outputs": [
    {
     "data": {
      "image/png": "[encoded data removed]",
      "text/plain": [
       "<matplotlib.figure.Figure at 0x7f0a570bfc10>"
      ]
     },
     "metadata": {},
     "output_type": "display_data"
    }
   ],
   "source": [
    "# Plot ad hoc CIFAR10 instances\n",
    "from matplotlib import pyplot\n",
    "from scipy.misc import toimage\n",
    "import matplotlib.image as mpimg\n",
    "\n",
    "img = mpimg.imread('./CarData/TrainImages/neg-0.pgm')\n",
    "pyplot.imshow(img, cmap='gray',vmin=0,vmax=255)\n",
    "pyplot.show()"
   ]
  },
  {
   "cell_type": "code",
   "execution_count": null,
   "metadata": {
    "collapsed": true
   },
   "outputs": [],
   "source": [
    "json_file = open('./simple_model.json', 'r')\n",
    "loaded_model_json = json_file.read()\n",
    "json_file.close()\n",
    "model = model_from_json(loaded_model_json)\n",
    "# load weights into new model\n",
    "model.load_weights(\"./simple_model.h5\")\n",
    "model.compile(loss='categorical_crossentropy', optimizer='adam', metrics=['accuracy'])\n",
    "\n",
    "# Final evaluation of the model\n",
    "print(\"Calculate 10000 pics of Testset.\")\n",
    "scores = model.evaluate(X_test, y_test, verbose=1)\n",
    "print(\"Accuracy: %.2f%%\" % (scores[1]*100))"
   ]
  },
  {
   "cell_type": "code",
   "execution_count": null,
   "metadata": {
    "collapsed": true
   },
   "outputs": [],
   "source": [
    "\"\"\"\n",
    "PREDICT\n",
    "\"\"\"\n",
    "import numpy as np\n",
    "labels = ['airplane', 'automobile', 'bird', 'cat', 'deer', 'dog', 'frog', 'horse', 'ship', 'truck']\n",
    "\n",
    "PREDICT_NUMBER = 100\n",
    "\n",
    "for i in range (0, PREDICT_NUMBER):\n",
    "    pyplot.subplot(330 +1)\n",
    "    pyplot.imshow(toimage(X_test[i]))\n",
    "    pyplot.show() \n",
    "\n",
    "    print \"Label: \", labels[np.argmax(y_test[i])]\n",
    "\n",
    "    predict = model.predict(X_test[i].reshape((1,3,32,32)))\n",
    "    print \"Predict: \", labels[np.argmax(predict[-1])]"
   ]
  },
  {
   "cell_type": "code",
   "execution_count": null,
   "metadata": {
    "collapsed": true
   },
   "outputs": [],
   "source": []
  }
 ],
 "metadata": {
  "kernelspec": {
   "display_name": "Python 2",
   "language": "python",
   "name": "python2"
  },
  "language_info": {
   "codemirror_mode": {
    "name": "ipython",
    "version": 2
   },
   "file_extension": ".py",
   "mimetype": "text/x-python",
   "name": "python",
   "nbconvert_exporter": "python",
   "pygments_lexer": "ipython2",
   "version": "2.7.13"
  }
 },
 "nbformat": 4,
 "nbformat_minor": 2
}
